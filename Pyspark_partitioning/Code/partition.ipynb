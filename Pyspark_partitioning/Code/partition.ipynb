{
 "cells": [
  {
   "cell_type": "code",
   "execution_count": null,
   "id": "b3a69227",
   "metadata": {},
   "outputs": [],
   "source": [
    "#install pyspark library\n",
    "!pip install pyspark"
   ]
  },
  {
   "cell_type": "code",
   "execution_count": null,
   "id": "dee44f14",
   "metadata": {},
   "outputs": [],
   "source": [
    "#import pyspark\n",
    "import pyspark"
   ]
  },
  {
   "cell_type": "code",
   "execution_count": null,
   "id": "a1a56368",
   "metadata": {},
   "outputs": [],
   "source": [
    "#import sparksession \n",
    "from pyspark.sql import SparkSession"
   ]
  },
  {
   "cell_type": "code",
   "execution_count": null,
   "id": "98a3b621",
   "metadata": {},
   "outputs": [],
   "source": [
    "#creating a sparksession object and providing appName \n",
    "spark=SparkSession.builder.appName(\"partitions\").getOrCreate()"
   ]
  },
  {
   "cell_type": "code",
   "execution_count": null,
   "id": "742ef41f",
   "metadata": {},
   "outputs": [],
   "source": [
    "#To create dataframe form External datasets\n",
    "%time AirlineDF = spark.read.option(\"header\", \"true\").csv(\"/Users/user/Desktop/partition/data/*\")"
   ]
  },
  {
   "cell_type": "code",
   "execution_count": null,
   "id": "b737db3c",
   "metadata": {},
   "outputs": [],
   "source": [
    "AirlineDF.show()"
   ]
  },
  {
   "cell_type": "code",
   "execution_count": null,
   "id": "1f4b6308",
   "metadata": {},
   "outputs": [],
   "source": [
    "#To check what data in created dataframe\n",
    "AirlineDF.take(1)"
   ]
  },
  {
   "cell_type": "code",
   "execution_count": null,
   "id": "0b26d687",
   "metadata": {},
   "outputs": [],
   "source": [
    "# calculate total rows in dataframe\n",
    "AirlineDF.count()"
   ]
  },
  {
   "cell_type": "code",
   "execution_count": null,
   "id": "85c9c45d",
   "metadata": {},
   "outputs": [],
   "source": [
    "#calculate total columns in dataframe\n",
    "len(AirlineDF.columns)"
   ]
  },
  {
   "cell_type": "markdown",
   "id": "7bcf7c87",
   "metadata": {},
   "source": [
    "# Partition on dataframe"
   ]
  },
  {
   "cell_type": "markdown",
   "id": "f47003b2",
   "metadata": {},
   "source": [
    "# reduce and increase no. of partition using coalesce() and repartition()"
   ]
  },
  {
   "cell_type": "markdown",
   "id": "9e6f0d84",
   "metadata": {},
   "source": [
    "# here we are partition data according to size or no. of rows"
   ]
  },
  {
   "cell_type": "code",
   "execution_count": null,
   "id": "df5105a9",
   "metadata": {},
   "outputs": [],
   "source": [
    "#to check how many partation in current AirlineDF dataframe\n",
    "AirlineDF.rdd.getNumPartitions()"
   ]
  },
  {
   "cell_type": "code",
   "execution_count": null,
   "id": "7671c374",
   "metadata": {},
   "outputs": [],
   "source": [
    "#write dataframe in csv file and cross check no of partition\n",
    "%time AirlineDF.write.mode(\"overwrite\").csv(\"flight/airdata\", header=True)"
   ]
  },
  {
   "cell_type": "code",
   "execution_count": null,
   "id": "509d073a",
   "metadata": {},
   "outputs": [],
   "source": [
    "# reduce the no of partition from 14 to 5 here we are using coalesce() function\n",
    "#using coalesce() you can only reduce the no. of partion not increase no. of partition\n",
    "%time AirlineDF1 = AirlineDF.coalesce(5)"
   ]
  },
  {
   "cell_type": "code",
   "execution_count": null,
   "id": "f4891d56",
   "metadata": {},
   "outputs": [],
   "source": [
    "#to check how many partation in current AirlineDF1 dataframe\n",
    "AirlineDF1.rdd.getNumPartitions()"
   ]
  },
  {
   "cell_type": "code",
   "execution_count": null,
   "id": "067acb1c",
   "metadata": {},
   "outputs": [],
   "source": [
    "#write dataframe in csv file and cross check no of partition\n",
    "%time AirlineDF1.write.mode(\"overwrite\").csv(\"flight/airline1\", header=True)"
   ]
  },
  {
   "cell_type": "code",
   "execution_count": null,
   "id": "ea910ed4",
   "metadata": {},
   "outputs": [],
   "source": [
    "#To increase the no of partition from 5 to 10 here we are using repartition() function\n",
    "%time AirlineDF2 = AirlineDF1.repartition(10)"
   ]
  },
  {
   "cell_type": "code",
   "execution_count": null,
   "id": "1acb8208",
   "metadata": {},
   "outputs": [],
   "source": [
    "#to check how many partation in current AirlineDF2 dataframe\n",
    "AirlineDF2.rdd.getNumPartitions()"
   ]
  },
  {
   "cell_type": "code",
   "execution_count": null,
   "id": "f0576d0b",
   "metadata": {},
   "outputs": [],
   "source": [
    "#write dataframe in csv file and cross check no of partition\n",
    "%time AirlineDF2.write.mode(\"overwrite\").csv(\"flight/airline2\", header=True)"
   ]
  },
  {
   "cell_type": "code",
   "execution_count": null,
   "id": "39e324b4",
   "metadata": {},
   "outputs": [],
   "source": []
  },
  {
   "cell_type": "markdown",
   "id": "87e967b9",
   "metadata": {},
   "source": [
    "# partition dataframe  by perticular column"
   ]
  },
  {
   "cell_type": "markdown",
   "id": "604ce2cf",
   "metadata": {},
   "source": [
    "# here we are using partitionBy() "
   ]
  },
  {
   "cell_type": "code",
   "execution_count": null,
   "id": "182c0895",
   "metadata": {},
   "outputs": [],
   "source": [
    "#partition data by one column\n",
    "%time AirlineDF.write.option(\"header\",True) \\\n",
    "        .partitionBy(\"Year\") \\\n",
    "        .mode(\"overwrite\") \\\n",
    "        .csv(\"flight/airline3\")"
   ]
  },
  {
   "cell_type": "code",
   "execution_count": null,
   "id": "c300d6fd",
   "metadata": {},
   "outputs": [],
   "source": [
    "#partition data by multiple columns\n",
    "%time AirlineDF.write.option(\"header\",True) \\\n",
    "        .partitionBy(\"Year\",\"UniqueCarrier\") \\\n",
    "        .mode(\"overwrite\") \\\n",
    "        .csv(\"flight/airline4\")"
   ]
  },
  {
   "cell_type": "code",
   "execution_count": null,
   "id": "2e8fcf6a",
   "metadata": {},
   "outputs": [],
   "source": []
  },
  {
   "cell_type": "markdown",
   "id": "4bbfcd3b",
   "metadata": {},
   "source": [
    "# Read partition data in pyspark with specific columns"
   ]
  },
  {
   "cell_type": "code",
   "execution_count": null,
   "id": "1433435d",
   "metadata": {},
   "outputs": [],
   "source": [
    "#Year all and Reporting_Airline AA\n",
    "%time AirlineDF4 = spark.read.option(\"basePath\", \"flight/airline4\").csv(\"flight/airline4/Year=2015/UniqueCarrier=*\")"
   ]
  },
  {
   "cell_type": "code",
   "execution_count": null,
   "id": "b8aaba83",
   "metadata": {},
   "outputs": [],
   "source": [
    "#To check\n",
    "%time AirlineDF4.select(\"Year\",\"UniqueCarrier\").show()"
   ]
  },
  {
   "cell_type": "code",
   "execution_count": null,
   "id": "9e88a711",
   "metadata": {},
   "outputs": [],
   "source": [
    "#Year 2015 and Reporting_Airline all\n",
    "%time AirlineDF5 = spark.read.option(\"basePath\", \"flight/airline4\").csv(\"flight/airline4/Year=*/UniqueCarrier=*\")"
   ]
  },
  {
   "cell_type": "code",
   "execution_count": null,
   "id": "b0831dfd",
   "metadata": {},
   "outputs": [],
   "source": [
    "%time AirlineDF5.select(\"Year\",\"UniqueCarrier\").show()"
   ]
  },
  {
   "cell_type": "code",
   "execution_count": null,
   "id": "fdfc412e",
   "metadata": {},
   "outputs": [],
   "source": [
    "#To check\n",
    "%time AirlineDF5.select(\"Year\",\"UniqueCarrier\").show()"
   ]
  },
  {
   "cell_type": "code",
   "execution_count": null,
   "id": "aa776a31",
   "metadata": {},
   "outputs": [],
   "source": [
    "#perform on partition data\n",
    "%time AirlineDF5.select(\"UniqueCarrier\").groupby(\"UniqueCarrier\").count().show()"
   ]
  },
  {
   "cell_type": "code",
   "execution_count": null,
   "id": "9e79110e",
   "metadata": {},
   "outputs": [],
   "source": [
    "#without partition\n",
    "%time AirlineDF.select(\"Year\",\"UniqueCarrier\").groupby(\"UniqueCarrier\").count().show()"
   ]
  },
  {
   "cell_type": "markdown",
   "id": "fada7cad",
   "metadata": {},
   "source": [
    "# using repartition and partitionBy together"
   ]
  },
  {
   "cell_type": "code",
   "execution_count": null,
   "id": "488f1808",
   "metadata": {},
   "outputs": [],
   "source": [
    "#Use repartition() and partitionBy() together\n",
    "%time AirlineDF.repartition(3) \\\n",
    "        .write.option(\"header\",True) \\\n",
    "        .partitionBy(\"Year\") \\\n",
    "        .mode(\"overwrite\") \\\n",
    "        .csv(\"flight/airline5\")\n",
    "\n",
    "#to check what happen when both are applying together"
   ]
  },
  {
   "cell_type": "code",
   "execution_count": null,
   "id": "590b6eb7",
   "metadata": {},
   "outputs": [],
   "source": []
  },
  {
   "cell_type": "markdown",
   "id": "1c1f0c7e",
   "metadata": {},
   "source": [
    "# partitionBy() control number of partitions\n"
   ]
  },
  {
   "cell_type": "code",
   "execution_count": null,
   "id": "8c3120ac",
   "metadata": {},
   "outputs": [],
   "source": [
    "%time AirlineDF.write.option(\"header\",True) \\\n",
    "        .option(\"maxRecordsPerFile\", 2) \\\n",
    "        .partitionBy(\"Year\") \\\n",
    "        .mode(\"overwrite\") \\\n",
    "        .csv(\"flight/airline6\")\n",
    "#to check what happen when applying maxRecordsPerFile is 2"
   ]
  },
  {
   "cell_type": "markdown",
   "id": "31840d2a",
   "metadata": {},
   "source": [
    "# with partation"
   ]
  },
  {
   "cell_type": "code",
   "execution_count": null,
   "id": "3fae74d4",
   "metadata": {},
   "outputs": [],
   "source": [
    "# calculate total no of flights and  group data by Carrier\n",
    "%time  AirlineDF5.select('Year','UniqueCarrier') \\\n",
    ".filter((AirlineDF5.Year >= 2005)).groupBy('UniqueCarrier') \\\n",
    ".count().withColumnRenamed(\"count\", \"Total Flights\").orderBy(\"UniqueCarrier\").show()"
   ]
  },
  {
   "cell_type": "markdown",
   "id": "09452991",
   "metadata": {},
   "source": [
    "# without partation"
   ]
  },
  {
   "cell_type": "code",
   "execution_count": null,
   "id": "92322a1d",
   "metadata": {},
   "outputs": [],
   "source": [
    "# calculate total no of flights and  group data by Carrier\n",
    "%time AirlineDF.select('Year','UniqueCarrier') \\\n",
    ".filter((AirlineDF.Year >= 2005)).groupBy('UniqueCarrier') \\\n",
    ".count().withColumnRenamed(\"count\", \"Total Flights\").orderBy(\"UniqueCarrier\").show()"
   ]
  },
  {
   "cell_type": "code",
   "execution_count": null,
   "id": "8be850a8",
   "metadata": {},
   "outputs": [],
   "source": []
  },
  {
   "cell_type": "code",
   "execution_count": null,
   "id": "389ce26c",
   "metadata": {},
   "outputs": [],
   "source": []
  }
 ],
 "metadata": {
  "kernelspec": {
   "display_name": "Python 3 (ipykernel)",
   "language": "python",
   "name": "python3"
  },
  "language_info": {
   "codemirror_mode": {
    "name": "ipython",
    "version": 3
   },
   "file_extension": ".py",
   "mimetype": "text/x-python",
   "name": "python",
   "nbconvert_exporter": "python",
   "pygments_lexer": "ipython3",
   "version": "3.9.7"
  }
 },
 "nbformat": 4,
 "nbformat_minor": 5
}
