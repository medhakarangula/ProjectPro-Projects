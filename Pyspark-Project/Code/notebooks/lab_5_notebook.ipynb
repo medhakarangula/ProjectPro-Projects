{
 "cells": [
  {
   "attachments": {},
   "cell_type": "markdown",
   "metadata": {},
   "source": [
    "## Data Lab: Spark Streaming\n",
    "> Streaming demo"
   ]
  },
  {
   "cell_type": "code",
   "execution_count": null,
   "metadata": {},
   "outputs": [],
   "source": [
    "from pyspark.sql import SparkSession\n",
    "from pyspark.sql import functions as sqlfn\n",
    "from pyspark.sql import types as sqlt"
   ]
  },
  {
   "cell_type": "code",
   "execution_count": null,
   "metadata": {},
   "outputs": [],
   "source": [
    "spark = SparkSession.builder.appName('SparkStreamingLab1').master('local[2]').getOrCreate()"
   ]
  },
  {
   "cell_type": "code",
   "execution_count": null,
   "metadata": {},
   "outputs": [],
   "source": [
    "# Enforce schema, to avoid dynamic changes that can break things!\n",
    "schema_employee = sqlt.StructType([\n",
    "    sqlt.StructField('employee_id',sqlt.IntegerType(), True),\n",
    "    sqlt.StructField('department_name',sqlt.StringType(), True),\n",
    "    sqlt.StructField('name',sqlt.StringType(), True),\n",
    "    sqlt.StructField('last_name',sqlt.StringType(), True),\n",
    "    sqlt.StructField('hire_timestamp',sqlt.TimestampType(), True)\n",
    "])"
   ]
  },
  {
   "cell_type": "code",
   "execution_count": null,
   "metadata": {},
   "outputs": [],
   "source": [
    "# Read Stream\n",
    "df_employees = spark.readStream.format('csv').schema(schema_employee)\\\n",
    "                    .option('header',True)\\\n",
    "                    .option('maxFilesPerTrigger',1)\\\n",
    "                    .load(r'datasets/csv/')"
   ]
  },
  {
   "cell_type": "code",
   "execution_count": null,
   "metadata": {},
   "outputs": [],
   "source": [
    "# Is my stream activated?\n",
    "df_employees.isStreaming"
   ]
  },
  {
   "cell_type": "code",
   "execution_count": null,
   "metadata": {},
   "outputs": [],
   "source": [
    "# Show schema\n",
    "df_employees.printSchema()"
   ]
  },
  {
   "cell_type": "code",
   "execution_count": null,
   "metadata": {},
   "outputs": [],
   "source": [
    "# Add aggregation\n",
    "df_large_teams = df_employees.withWatermark(\"hire_timestamp\", \"10 minutes\")\\\n",
    "                    .groupBy('department_name','hire_timestamp')\\\n",
    "                        .agg((sqlfn.count('employee_id').alias('count')), sqlfn.max('hire_timestamp'))\\\n",
    "                            .where('count > 1')"
   ]
  },
  {
   "cell_type": "code",
   "execution_count": null,
   "metadata": {},
   "outputs": [],
   "source": [
    "df_stream_large_teams = df_large_teams.writeStream.format('console').outputMode('complete').start()"
   ]
  },
  {
   "attachments": {},
   "cell_type": "markdown",
   "metadata": {},
   "source": [
    "Example to append Streamed data to storage:\n",
    "\n",
    "```python\n",
    "df_stream_large_teams = df_large_teams.writeStream\\\n",
    "                                    .format('csv')\\\n",
    "                                    .outputMode('append')\\\n",
    "                                    .option(\"path\", \"output/large_depts/\")\\\n",
    "                                    .option(\"checkpointLocation\", \"datasets/checkpoints/\")\\\n",
    "                                    .start()\n",
    "```"
   ]
  },
  {
   "cell_type": "code",
   "execution_count": null,
   "metadata": {},
   "outputs": [],
   "source": [
    "# Stop stream\n",
    "df_stream_large_teams.stop()"
   ]
  },
  {
   "cell_type": "code",
   "execution_count": null,
   "metadata": {},
   "outputs": [],
   "source": []
  }
 ],
 "metadata": {
  "kernelspec": {
   "display_name": "venv",
   "language": "python",
   "name": "python3"
  },
  "language_info": {
   "codemirror_mode": {
    "name": "ipython",
    "version": 3
   },
   "file_extension": ".py",
   "mimetype": "text/x-python",
   "name": "python",
   "nbconvert_exporter": "python",
   "pygments_lexer": "ipython3",
   "version": "3.9.6"
  },
  "orig_nbformat": 4
 },
 "nbformat": 4,
 "nbformat_minor": 2
}
