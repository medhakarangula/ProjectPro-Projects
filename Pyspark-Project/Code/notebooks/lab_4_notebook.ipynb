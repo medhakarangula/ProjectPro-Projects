{
 "cells": [
  {
   "attachments": {},
   "cell_type": "markdown",
   "metadata": {},
   "source": [
    "## Data Lab: Spark SQL\n",
    "> Including a JSON flattening task"
   ]
  },
  {
   "cell_type": "code",
   "execution_count": null,
   "metadata": {},
   "outputs": [],
   "source": [
    "import logging\n",
    "from pyspark.sql import SparkSession"
   ]
  },
  {
   "attachments": {},
   "cell_type": "markdown",
   "metadata": {},
   "source": [
    "#### Create Spark Session. Remember this is our entry point for Dataframes or Datasets, not RDDs! "
   ]
  },
  {
   "cell_type": "code",
   "execution_count": null,
   "metadata": {},
   "outputs": [],
   "source": [
    "\n",
    "def rdd_to_dataframe(data, schema):\n",
    "    \"\"\"\n",
    "    Example: This fn creates a Spark RDD, loads it into a Spark DataFrame, and returns the DataFrame \n",
    "    \"\"\"\n",
    "        \n",
    "    # Create a SparkSession\n",
    "    spark = SparkSession.builder.appName(\"RDDToDataFrame\").getOrCreate()\n",
    "\n",
    "    try:\n",
    "        # Create an RDD from the input data, using Spark Context not Session!\n",
    "        rdd = spark.sparkContext.parallelize(data)\n",
    "\n",
    "        # Convert RDD to DataFrame\n",
    "        df = spark.createDataFrame(rdd, schema)\n",
    "\n",
    "        # Return the DataFrame, without stopping the SparkSession\n",
    "        return df\n",
    "\n",
    "    except Exception as e:\n",
    "        # Log error and Stop the SparkSession\n",
    "        logging.error('Error while transforming RDD to DF: {}'.format(e))\n",
    "        spark.stop()\n"
   ]
  },
  {
   "attachments": {},
   "cell_type": "markdown",
   "metadata": {},
   "source": [
    "----\n",
    "Create some random data"
   ]
  },
  {
   "cell_type": "code",
   "execution_count": null,
   "metadata": {},
   "outputs": [],
   "source": [
    "# Data sample\n",
    "dept_data = [(1,\"Big Data\"), (2, \"Finance\"), (3,\"Marketing\")]\n",
    "dept_schema = [\"department_id\", \"department_name\"]"
   ]
  },
  {
   "cell_type": "code",
   "execution_count": null,
   "metadata": {},
   "outputs": [],
   "source": [
    "# Data sample\n",
    "emp_data = [(1,\"Carlos\", 17), (1,\"Bob\", 30), (2,\"Jasmin\", 26),(3,\"Nishi\", 36)]\n",
    "emp_schema = [\"department_id\",\"employee_name\", \"age\"]"
   ]
  },
  {
   "attachments": {},
   "cell_type": "markdown",
   "metadata": {},
   "source": [
    "---"
   ]
  },
  {
   "attachments": {},
   "cell_type": "markdown",
   "metadata": {},
   "source": [
    "### Let's now use the Spark RDD as a Spark Dataframe"
   ]
  },
  {
   "cell_type": "code",
   "execution_count": null,
   "metadata": {},
   "outputs": [],
   "source": [
    "# Call function, to transform RDD into DF\n",
    "df_emp = rdd_to_dataframe(emp_data, emp_schema)\n",
    "df_dept = rdd_to_dataframe(dept_data, dept_schema)"
   ]
  },
  {
   "cell_type": "code",
   "execution_count": null,
   "metadata": {},
   "outputs": [],
   "source": [
    "# Show schema\n",
    "df_dept.show()"
   ]
  },
  {
   "attachments": {},
   "cell_type": "markdown",
   "metadata": {},
   "source": [
    "### Use Spark SQL, to join 2 datasets"
   ]
  },
  {
   "cell_type": "code",
   "execution_count": null,
   "metadata": {},
   "outputs": [],
   "source": [
    "# Do we have a session running?\n",
    "spark = SparkSession.builder.appName(\"RDDToDataFrame\").getOrCreate()"
   ]
  },
  {
   "cell_type": "code",
   "execution_count": null,
   "metadata": {},
   "outputs": [],
   "source": [
    "# Register as view\n",
    "df_emp.createOrReplaceTempView('employees')\n",
    "df_dept.createOrReplaceTempView('departments')"
   ]
  },
  {
   "cell_type": "code",
   "execution_count": null,
   "metadata": {},
   "outputs": [],
   "source": [
    "# Query sample, using Spark SQL\n",
    "spark.sql('''\n",
    "            select emp.*, dept.*\n",
    "            from employees as emp\n",
    "                inner join departments as dept on (emp.department_id = dept.department_id) \n",
    "            ''').show()"
   ]
  },
  {
   "cell_type": "code",
   "execution_count": null,
   "metadata": {},
   "outputs": [],
   "source": [
    "# Let's now save the JOINED RESULTSET into a new Temporary View -- NO WHERE CLAUSE\n",
    "spark.sql('''\n",
    "        select emp.employee_name, emp.age, emp.department_id, dept.department_name\n",
    "        from employees as emp\n",
    "            inner join departments as dept on (emp.department_id = dept.department_id)\n",
    "        ''').createOrReplaceTempView('dept_employees')"
   ]
  },
  {
   "attachments": {},
   "cell_type": "markdown",
   "metadata": {},
   "source": [
    "---\n",
    "\n",
    "## Let's try now something a bit more complicated 🚀"
   ]
  },
  {
   "attachments": {},
   "cell_type": "markdown",
   "metadata": {},
   "source": [
    "### Join a third dataset, but with a different format"
   ]
  },
  {
   "cell_type": "code",
   "execution_count": null,
   "metadata": {},
   "outputs": [],
   "source": [
    "# Let's load the data first\n",
    "df_budgets = spark.read.option(\"multiline\",\"true\").json('datasets/json/department_budgets.json')"
   ]
  },
  {
   "cell_type": "code",
   "execution_count": null,
   "metadata": {},
   "outputs": [],
   "source": [
    "# Show schema\n",
    "df_budgets.printSchema()"
   ]
  },
  {
   "cell_type": "code",
   "execution_count": null,
   "metadata": {},
   "outputs": [],
   "source": [
    "# We can still query the data, using Json paths: \n",
    "df_budgets.select('offices').where('department_id == 1').show(truncate=False)"
   ]
  },
  {
   "attachments": {},
   "cell_type": "markdown",
   "metadata": {},
   "source": [
    "### Querying without flattening JSON"
   ]
  },
  {
   "cell_type": "code",
   "execution_count": null,
   "metadata": {},
   "outputs": [],
   "source": [
    "# Register as Temporary View\n",
    "df_budgets.createOrReplaceTempView('budgets_json')"
   ]
  },
  {
   "attachments": {},
   "cell_type": "markdown",
   "metadata": {},
   "source": [
    "## This could lead to Spaghetti code!! 🚨\n",
    "\n",
    "i.e.\n",
    "- What if bud.offices have a variable number of items? "
   ]
  },
  {
   "cell_type": "code",
   "execution_count": null,
   "metadata": {},
   "outputs": [],
   "source": [
    "# Let's join the third dataset. \n",
    "spark.sql('''\n",
    "          select  emp.employee_name, \n",
    "                  emp.department_id, \n",
    "                  bud.budget, \n",
    "                  bud.budget_period, \n",
    "                  bud.offices[0].cost_center.office as office_1,\n",
    "                  bud.offices[0].cost_center.budget_status as budget_status_1,\n",
    "                  bud.offices[1].cost_center.office as office_2,\n",
    "                  bud.offices[1].cost_center.budget_status as budget_status_2,\n",
    "                  bud.offices[2].cost_center.office as office_3,\n",
    "                  bud.offices[2].cost_center.budget_status as budget_status_3,\n",
    "                  nvl(bud.budget_authorizer[0].cto.name,\"no CTO registered\")  as cto_name,\n",
    "                  nvl(bud.budget_authorizer[0].cto.last_name,\"no CTO registered\") as cto_last_name\n",
    "          from dept_employees as emp\n",
    "            inner join budgets_json as bud on (emp.department_id = bud.department_id)\n",
    "          ''').show()"
   ]
  },
  {
   "attachments": {},
   "cell_type": "markdown",
   "metadata": {},
   "source": [
    "### Flattening JSON into Columnar format is normally easier, cleaner and more scalable. \n",
    "- Suggestion: always test and benchmark performance, to compare Json Paths access vs. flattening"
   ]
  },
  {
   "cell_type": "code",
   "execution_count": null,
   "metadata": {},
   "outputs": [],
   "source": [
    "# - Import required libs. These should be on top\n",
    "import logging\n",
    "from pyspark.sql.types import ArrayType, StructType\n",
    "from pyspark.sql.functions import explode_outer, col"
   ]
  },
  {
   "attachments": {},
   "cell_type": "markdown",
   "metadata": {},
   "source": [
    "### There are tons of different approaches to flatten/explode JSON. This is just an example\n",
    "- Credits: Function adapted from [nmukerje/Pyspark Flatten json](https://bit.ly/43ZegOL) repo in GitHub"
   ]
  },
  {
   "cell_type": "code",
   "execution_count": null,
   "metadata": {},
   "outputs": [],
   "source": [
    "def flatten_dataframe(df):\n",
    "    \"\"\"\n",
    "    Spark function to flatten nested structs. Function adapted from GitHub: https://bit.ly/43ZegOL\n",
    "    :param df: Spark dataframe with semi-structured types, such as StructType or ArrayType\n",
    "\n",
    "    :return: Spark dataframe\n",
    "    \"\"\"    \n",
    "    try:\n",
    "        # compute Complex Fields (Lists and Structs) in Schema   \n",
    "        complex_fields = dict([(field.name, field.dataType)\n",
    "                                    for field in df.schema.fields\n",
    "                                    if type(field.dataType) == ArrayType or  type(field.dataType) == StructType])\n",
    "            \n",
    "        while len(complex_fields)!=0:\n",
    "            col_name=list(complex_fields.keys())[0]\n",
    "            \n",
    "            # if StructType then convert all sub element to columns.\n",
    "            # i.e. flatten structs\n",
    "            if (type(complex_fields[col_name]) == StructType):\n",
    "                expanded = [col(col_name+'.'+k).alias(col_name+'_'+k) for k in [ n.name for n in  complex_fields[col_name]]]\n",
    "                df=df.select(\"*\", *expanded).drop(col_name)\n",
    "            \n",
    "            # if ArrayType then add the Array Elements as Rows using the explode function\n",
    "            # i.e. explode Arrays\n",
    "            elif (type(complex_fields[col_name]) == ArrayType):    \n",
    "                df=df.withColumn(col_name, explode_outer(col_name))\n",
    "            \n",
    "            # recompute remaining Complex Fields in Schema       \n",
    "            complex_fields = dict([(field.name, field.dataType)\n",
    "                                    for field in df.schema.fields\n",
    "                                    if type(field.dataType) == ArrayType or  type(field.dataType) == StructType])\n",
    "        return df\n",
    "    \n",
    "    except Exception as e:\n",
    "        logging.error('Error while flattening JSON data: {}'.format(e))"
   ]
  },
  {
   "cell_type": "code",
   "execution_count": null,
   "metadata": {},
   "outputs": [],
   "source": [
    "# Let's now flatten the data.\n",
    "df_budgets_flat = flatten_dataframe(df_budgets) "
   ]
  },
  {
   "attachments": {},
   "cell_type": "markdown",
   "metadata": {},
   "source": [
    "### However, think about Data Duplication when unnesting data!⚠️"
   ]
  },
  {
   "cell_type": "code",
   "execution_count": null,
   "metadata": {},
   "outputs": [],
   "source": [
    "# Show sample\n",
    "df_budgets_flat.show()"
   ]
  },
  {
   "cell_type": "code",
   "execution_count": null,
   "metadata": {},
   "outputs": [],
   "source": [
    "# New flatten schema\n",
    "df_budgets_flat.printSchema()"
   ]
  },
  {
   "cell_type": "code",
   "execution_count": null,
   "metadata": {},
   "outputs": [],
   "source": [
    "# Same process: register JSON DF as Temporary View\n",
    "df_budgets_flat.createOrReplaceTempView('budgets_flat')"
   ]
  },
  {
   "cell_type": "code",
   "execution_count": null,
   "metadata": {},
   "outputs": [],
   "source": [
    "# Let's join the third dataset\n",
    "spark.sql('''\n",
    "          select *\n",
    "          from dept_employees\n",
    "          ''').show()"
   ]
  },
  {
   "cell_type": "code",
   "execution_count": null,
   "metadata": {},
   "outputs": [],
   "source": [
    "# Let's join the third dataset\n",
    "spark.sql('''\n",
    "          select emp.department_id, emp.employee_name, emp.department_name, bud.budget, bud.budget_period, bud.offices_cost_center_office, bud.budget_authorizer_cto_name\n",
    "          from dept_employees as emp\n",
    "            inner join budgets_flat as bud on (emp.department_id = bud.department_id)\n",
    "          ''').show(n=50)"
   ]
  },
  {
   "attachments": {},
   "cell_type": "markdown",
   "metadata": {},
   "source": [
    "### Here you can write the output of the 3 datasets join, just as we did in the previous lab 3"
   ]
  },
  {
   "attachments": {},
   "cell_type": "markdown",
   "metadata": {},
   "source": []
  }
 ],
 "metadata": {
  "kernelspec": {
   "display_name": "venv",
   "language": "python",
   "name": "python3"
  },
  "language_info": {
   "codemirror_mode": {
    "name": "ipython",
    "version": 3
   },
   "file_extension": ".py",
   "mimetype": "text/x-python",
   "name": "python",
   "nbconvert_exporter": "python",
   "pygments_lexer": "ipython3",
   "version": "3.9.6"
  },
  "orig_nbformat": 4
 },
 "nbformat": 4,
 "nbformat_minor": 2
}
